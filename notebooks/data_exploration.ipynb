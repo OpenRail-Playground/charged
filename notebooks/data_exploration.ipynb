{
 "cells": [
  {
   "cell_type": "markdown",
   "id": "0",
   "metadata": {},
   "source": [
    "# Data Caching & Exploration\n",
    "\n",
    "## DB Connection"
   ]
  },
  {
   "cell_type": "code",
   "execution_count": null,
   "id": "1d7b551b",
   "metadata": {},
   "outputs": [],
   "source": [
    "import pandas as pd\n",
    "import os\n",
    "from dotenv import load_dotenv\n",
    "from snowflake.snowpark import Session"
   ]
  },
  {
   "cell_type": "code",
   "execution_count": null,
   "id": "1",
   "metadata": {},
   "outputs": [],
   "source": [
    " # load environment variables from .env file\n",
    "load_dotenv()\n",
    "\n",
    "# create snowpark session\n",
    "params = {\n",
    "    \"account\": os.environ[\"SNOWFLAKE_ACCOUNT\"],\n",
    "    \"role\": os.environ[\"SNOWFLAKE_ROLE\"],\n",
    "    \"database\": os.environ[\"SNOWFLAKE_DATABASE\"],\n",
    "    \"schema\": os.environ[\"SNOWFLAKE_SCHEMA\"],\n",
    "    \"warehouse\": os.environ[\"SNOWFLAKE_WAREHOUSE\"],\n",
    "    \"user\": os.environ[\"SNOWFLAKE_USER\"],\n",
    "    \"password\": os.environ[\"SNOWFLAKE_PASSWORD\"],\n",
    "    \"authentication\": \"snowflake\",\n",
    "    \"session_parameters\": {\n",
    "        \"QUERY_TAG\": \"hack4rail\",\n",
    "    },\n",
    "}\n",
    "session = Session.builder.configs(params).create()"
   ]
  },
  {
   "cell_type": "markdown",
   "id": "6214c16d",
   "metadata": {},
   "source": [
    "## Row Count"
   ]
  },
  {
   "cell_type": "code",
   "execution_count": null,
   "id": "a0e83cd3",
   "metadata": {},
   "outputs": [],
   "source": [
    "# Additional query to get total row count\n",
    "row_count_query = \"SELECT COUNT(*) AS total_rows FROM BATTERIELOK_DATA\"\n",
    "session.sql(row_count_query).show()"
   ]
  },
  {
   "cell_type": "markdown",
   "id": "3515dc50",
   "metadata": {},
   "source": [
    "## Load BATTERIELOK_DATA"
   ]
  },
  {
   "cell_type": "code",
   "execution_count": null,
   "id": "3691d740",
   "metadata": {},
   "outputs": [],
   "source": [
    "# Download BATTERIELOK_DATA to a pandas dataframe\n",
    "df = session.table(\"BATTERIELOK_DATA\").to_pandas()\n",
    "\n",
    "# Display the first few rows to verify the data was loaded correctly\n",
    "print(f\"Downloaded {len(df)} rows from BATTERIELOK_DATA\")\n",
    "df.head()"
   ]
  },
  {
   "cell_type": "code",
   "execution_count": null,
   "id": "834feb6e",
   "metadata": {},
   "outputs": [],
   "source": [
    "df.info()"
   ]
  },
  {
   "cell_type": "markdown",
   "id": "fb6ae6b9",
   "metadata": {},
   "source": [
    "## Cache Data"
   ]
  },
  {
   "cell_type": "code",
   "execution_count": null,
   "id": "ceb3aa50",
   "metadata": {},
   "outputs": [],
   "source": [
    "df.to_parquet(\"batterielok_data.parquet.gzip\", compression=\"gzip\", index=False)"
   ]
  },
  {
   "cell_type": "markdown",
   "id": "28ca8b6e",
   "metadata": {},
   "source": [
    "## Cache Subset"
   ]
  },
  {
   "cell_type": "code",
   "execution_count": null,
   "id": "d0716c42",
   "metadata": {},
   "outputs": [],
   "source": [
    "df_sub = df.sort_values(by=\"TIMESTAMP_VEHICLE\", ascending=True)[:1000000]\n",
    "df_sub.to_parquet(\"batterielok_data_sub.parquet\", compression=\"gzip\", index=False)"
   ]
  },
  {
   "cell_type": "markdown",
   "id": "e46d6611",
   "metadata": {},
   "source": [
    "## Use Cache"
   ]
  },
  {
   "cell_type": "code",
   "execution_count": null,
   "id": "5c8648d6",
   "metadata": {},
   "outputs": [],
   "source": [
    "df = pd.read_parquet(\"../data/batterielok_data.parquet.gzip\")"
   ]
  },
  {
   "cell_type": "code",
   "execution_count": null,
   "id": "a8bd0720",
   "metadata": {},
   "outputs": [],
   "source": [
    "!uv pip install ydata-profiling"
   ]
  },
  {
   "cell_type": "code",
   "execution_count": null,
   "id": "107dac2f",
   "metadata": {},
   "outputs": [],
   "source": [
    "from ydata_profiling import ProfileReport\n",
    "\n",
    "\n",
    "profile = ProfileReport(\n",
    "    df,\n",
    "    title=\"Profiling Report\",\n",
    "    # useful for large datasets\n",
    "    correlations={\n",
    "        \"auto\": {\"calculate\": False},\n",
    "        \"pearson\": {\"calculate\": False},\n",
    "        \"spearman\": {\"calculate\": False},\n",
    "        \"kendall\": {\"calculate\": False},\n",
    "        \"phi_k\": {\"calculate\": False},\n",
    "        \"cramers\": {\"calculate\": False},\n",
    "    },\n",
    "    missing_diagrams={\n",
    "        \"heatmap\": False,\n",
    "        \"matrix\": False\n",
    "    },\n",
    ")\n",
    "profile.to_file(\"../data/batterielok_profiling_report.html\")"
   ]
  },
  {
   "cell_type": "code",
   "execution_count": null,
   "id": "a7888bf6",
   "metadata": {},
   "outputs": [],
   "source": [
    "!uv sync"
   ]
  }
 ],
 "metadata": {
  "kernelspec": {
   "display_name": ".venv",
   "language": "python",
   "name": "python3"
  },
  "language_info": {
   "codemirror_mode": {
    "name": "ipython",
    "version": 3
   },
   "file_extension": ".py",
   "mimetype": "text/x-python",
   "name": "python",
   "nbconvert_exporter": "python",
   "pygments_lexer": "ipython3",
   "version": "3.12.9"
  }
 },
 "nbformat": 4,
 "nbformat_minor": 5
}
