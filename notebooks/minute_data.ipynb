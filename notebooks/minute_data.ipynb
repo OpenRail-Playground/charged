{
 "cells": [
  {
   "cell_type": "code",
   "execution_count": null,
   "id": "10175451",
   "metadata": {},
   "outputs": [],
   "source": [
    "import pandas as pd"
   ]
  },
  {
   "cell_type": "code",
   "execution_count": null,
   "id": "d4589689",
   "metadata": {},
   "outputs": [],
   "source": [
    "PRIMARY_COLUMNS = [\n",
    "    \"BATTERY_1_CURRENT\",\n",
    "    \"BATTERY_1_TEMP\",\n",
    "    \"BATTERY_1_VOLTAGE\",\n",
    "    \"BATTERY_2_CURRENT\",\n",
    "    \"BATTERY_2_TEMP\",\n",
    "    \"BATTERY_2_VOLTAGE\",\n",
    "    \"BATTERY_3_CURRENT\",\n",
    "    \"BATTERY_3_TEMP\",\n",
    "    \"BATTERY_3_VOLTAGE\",\n",
    "    \"BATTERY_4_CURRENT\",\n",
    "    \"BATTERY_4_TEMP\",\n",
    "    \"BATTERY_4_VOLTAGE\",\n",
    "    \"BATTERY_5_VOLTAGE\",\n",
    "    \"BATTERY_COOLING_TEMP\",\n",
    "    \"BATTERY_SOC\",\n",
    "    \"BATTERY_SOH\",\n",
    "    \"ERRORS\",\n",
    "    \"ERROR_SIZE\",\n",
    "    \"TIMESTAMP_KAFKA\",\n",
    "    \"TIMESTAMP_TRUNC\",\n",
    "    \"TIMESTAMP_VEHICLE\",\n",
    "    \"VEHICLE_GPS_SPEED\",\n",
    "    \"VEHICLE_GPS_X\",\n",
    "    \"VEHICLE_GPS_Y\",\n",
    "    \"VEHICLE_ID\",\n",
    "    \"VEHICLE_OUTSIDE_TEMP\",\n",
    "    \"VEHICLE_SPEED\",\n",
    "]"
   ]
  },
  {
   "cell_type": "code",
   "execution_count": null,
   "id": "c1e4104d",
   "metadata": {},
   "outputs": [],
   "source": [
    "df = pd.read_parquet(\n",
    "        \"../data/clean_data.parquet\",\n",
    "        columns=PRIMARY_COLUMNS,\n",
    "        engine=\"pyarrow\",\n",
    "    )\n",
    "\n",
    "df[\"ERRORS\"] = df[\"ERRORS\"].str.replace(\"\\n\", \"\", regex=False).replace('\\[  \"', \"\", regex=True).replace('\"\\]', \"\", regex=True).replace(\"\\[\\]\", \"\", regex=True)"
   ]
  },
  {
   "cell_type": "code",
   "execution_count": null,
   "id": "9d4db0f0",
   "metadata": {},
   "outputs": [],
   "source": [
    "# Define aggregation functions per column\n",
    "agg_functions = {\n",
    "    # Battery current columns - average\n",
    "    'BATTERY_1_CURRENT': 'mean',\n",
    "    'BATTERY_2_CURRENT': 'mean',\n",
    "    'BATTERY_3_CURRENT': 'mean',\n",
    "    'BATTERY_4_CURRENT': 'mean',\n",
    "    \n",
    "    # Battery temperature columns - average\n",
    "    'BATTERY_1_TEMP': 'mean',\n",
    "    'BATTERY_2_TEMP': 'mean',\n",
    "    'BATTERY_3_TEMP': 'mean',\n",
    "    'BATTERY_4_TEMP': 'mean',\n",
    "    'BATTERY_COOLING_TEMP': 'mean',\n",
    "    \n",
    "    # Battery voltage columns - average\n",
    "    'BATTERY_1_VOLTAGE': 'mean',\n",
    "    'BATTERY_2_VOLTAGE': 'mean',\n",
    "    'BATTERY_3_VOLTAGE': 'mean',\n",
    "    'BATTERY_4_VOLTAGE': 'mean',\n",
    "    'BATTERY_5_VOLTAGE': 'mean',\n",
    "    \n",
    "    # Battery state columns - average\n",
    "    'BATTERY_SOC': 'mean',  # State of Charge\n",
    "    'BATTERY_SOH': 'mean',  # State of Health\n",
    "    \n",
    "    # Error columns\n",
    "    'ERRORS': 'unique',        # Sum of errors\n",
    "    'ERROR_SIZE': 'sum',    # Sum of error sizes\n",
    "    \n",
    "    # Timestamp columns\n",
    "    'TIMESTAMP_KAFKA': 'last',\n",
    "    'TIMESTAMP_TRUNC': 'last',\n",
    "    \n",
    "    # Vehicle data columns\n",
    "    'VEHICLE_GPS_SPEED': 'mean',\n",
    "    'VEHICLE_GPS_X': 'mean',\n",
    "    'VEHICLE_GPS_Y': 'mean',\n",
    "    'VEHICLE_OUTSIDE_TEMP': 'mean',\n",
    "    'VEHICLE_SPEED': 'mean'\n",
    "}\n",
    "\n",
    "# Perform minute-wise aggregation by first grouping by VEHICLE_ID and then using pd.Grouper\n",
    "# We set TIMESTAMP_VEHICLE as index temporarily for the Grouper to work\n",
    "df_with_index = df.set_index('TIMESTAMP_VEHICLE')\n",
    "df_minute = df_with_index.groupby(['VEHICLE_ID', pd.Grouper(freq='1Min')]).agg(agg_functions)\n",
    "\n",
    "# Display the first few rows of the minute-aggregated data\n",
    "df_minute.head()"
   ]
  },
  {
   "cell_type": "code",
   "execution_count": null,
   "id": "eec3b73b",
   "metadata": {},
   "outputs": [],
   "source": [
    "df_minute = df_minute.reset_index()"
   ]
  },
  {
   "cell_type": "code",
   "execution_count": null,
   "id": "f072566f",
   "metadata": {},
   "outputs": [],
   "source": [
    "import numpy as np"
   ]
  },
  {
   "cell_type": "code",
   "execution_count": null,
   "id": "98c74ccc",
   "metadata": {},
   "outputs": [],
   "source": [
    "df_minute[\"ERRORS\"] = df_minute[\"ERRORS\"].apply(\n",
    "    lambda x: \", \".join([str(e) for e in x if str(e).strip() != \"\"]) if isinstance(x, (list, tuple, pd.Series, np.ndarray)) else (str(x) if str(x).strip() != \"\" else None)\n",
    ")"
   ]
  },
  {
   "cell_type": "code",
   "execution_count": null,
   "id": "45e9353c",
   "metadata": {},
   "outputs": [],
   "source": [
    "df_minute.shape"
   ]
  },
  {
   "cell_type": "code",
   "execution_count": null,
   "id": "cc066156",
   "metadata": {},
   "outputs": [],
   "source": [
    "df_minute.to_parquet(\"../data/clean_data_minute.parquet\")"
   ]
  },
  {
   "cell_type": "markdown",
   "id": "3e38aa65",
   "metadata": {},
   "source": []
  }
 ],
 "metadata": {
  "kernelspec": {
   "display_name": ".venv",
   "language": "python",
   "name": "python3"
  },
  "language_info": {
   "codemirror_mode": {
    "name": "ipython",
    "version": 3
   },
   "file_extension": ".py",
   "mimetype": "text/x-python",
   "name": "python",
   "nbconvert_exporter": "python",
   "pygments_lexer": "ipython3",
   "version": "3.12.9"
  }
 },
 "nbformat": 4,
 "nbformat_minor": 5
}
