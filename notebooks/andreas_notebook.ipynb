{
 "cells": [
  {
   "cell_type": "markdown",
   "id": "0",
   "metadata": {},
   "source": [
    "# Hack4Rail - Challenge 9\n",
    "\n",
    "Sample notebook to access battery data on Snowflake"
   ]
  },
  {
   "cell_type": "code",
   "execution_count": null,
   "id": "1",
   "metadata": {},
   "outputs": [],
   "source": [
    "from dotenv import load_dotenv\n",
    "import plotly.express as px\n",
    "from charged.snowflake_utils import create_session\n",
    "import snowflake.snowpark.functions as F\n",
    " \n",
    "# load environment variables from .env file\n",
    "load_dotenv()\n",
    "\n",
    "# create snowpark session\n",
    "session = create_session()"
   ]
  },
  {
   "cell_type": "code",
   "execution_count": null,
   "id": "2",
   "metadata": {},
   "outputs": [],
   "source": [
    "# query tables BATTERIELOK_DATA, VEHICLES, VEHICLE_TYPE\n",
    "table = \"BATTERIELOK_DATA\"\n",
    "sdf = (\n",
    "    session\n",
    "    .table(table)\n",
    "    .filter(F.col(\"VEHICLE_ID\").isNotNull())\n",
    "    .with_column(\n",
    "        \"TIMESTAMP_TRUNC\",\n",
    "        F.from_unixtime(\n",
    "            F.round(F.unix_timestamp(F.col(\"TIMESTAMP_VEHICLE\")) / 60) * 60\n",
    "        ).cast(\"TIMESTAMP\"),\n",
    "    )\n",
    ")\n",
    "sdf.show()"
   ]
  },
  {
   "cell_type": "code",
   "execution_count": null,
   "id": "3",
   "metadata": {},
   "outputs": [],
   "source": [
    "# sdf.columns\n",
    "\n",
    "metrics = [\n",
    "    \"VEHICLE_OUTSIDE_TEMP\",\n",
    "    \"BATTERY_SOC\",\n",
    "    \"BATTERY_SOH\",\n",
    "    \"BATTERY_COOLING_TEMP\",\n",
    "    \"BATTERY_1_TEMP\",\n",
    "    \"BATTERY_1_VOLTAGE\",\n",
    "    \"BATTERY_1_CURRENT\",\n",
    "    \"BATTERY_2_TEMP\",\n",
    "    \"BATTERY_2_VOLTAGE\",\n",
    "    \"BATTERY_2_CURRENT\",\n",
    "    \"BATTERY_3_TEMP\",\n",
    "    \"BATTERY_3_VOLTAGE\",\n",
    "    \"BATTERY_3_CURRENT\",\n",
    "    \"BATTERY_4_TEMP\",\n",
    "    \"BATTERY_4_VOLTAGE\",\n",
    "    \"BATTERY_4_CURRENT\",\n",
    "    \"BATTERY_5_VOLTAGE\"\n",
    "]\n",
    "\n",
    "from_date = '2025-05-23'\n",
    "to_date = '2025-06-23'"
   ]
  },
  {
   "cell_type": "code",
   "execution_count": null,
   "id": "4",
   "metadata": {},
   "outputs": [],
   "source": [
    "# groupby vehicle and 60 sec\n",
    "aggregations = []\n",
    "for column in metrics:\n",
    "    aggregations.append(F.avg(F.col(column)).alias(f\"{column}_AVG\"))\n",
    "\n",
    "df = (\n",
    "    sdf\n",
    "    .filter(F.to_date(F.col(\"TIMESTAMP_VEHICLE\")) >= from_date)\n",
    "    .filter(F.to_date(F.col(\"TIMESTAMP_VEHICLE\")) <= to_date)\n",
    "    .group_by([\"VEHICLE_ID\", \"TIMESTAMP_TRUNC\"])\n",
    "    .agg(*aggregations)\n",
    "    .order_by([\"VEHICLE_ID\", \"TIMESTAMP_TRUNC\"], ascending=[True, True])\n",
    "    .to_pandas()\n",
    ")\n",
    "df.head()\n"
   ]
  },
  {
   "cell_type": "code",
   "execution_count": null,
   "id": "5",
   "metadata": {},
   "outputs": [],
   "source": [
    "# show \n",
    "fig = px.line(\n",
    "    df,\n",
    "    x=\"TIMESTAMP_TRUNC\",\n",
    "    y=\"BATTERY_SOC_AVG\",\n",
    "    markers=True,\n",
    "    # color=\"VEHICLE_ID\",\n",
    "    facet_row=\"VEHICLE_ID\",\n",
    "    render_mode=\"svg\",\n",
    ")\n",
    "\n",
    "fig.show()"
   ]
  }
 ],
 "metadata": {
  "kernelspec": {
   "display_name": "h4r-battery-monitoring",
   "language": "python",
   "name": "python3"
  },
  "language_info": {
   "codemirror_mode": {
    "name": "ipython",
    "version": 3
   },
   "file_extension": ".py",
   "mimetype": "text/x-python",
   "name": "python",
   "nbconvert_exporter": "python",
   "pygments_lexer": "ipython3",
   "version": "3.12.10"
  }
 },
 "nbformat": 4,
 "nbformat_minor": 5
}
