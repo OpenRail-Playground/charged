{
 "cells": [
  {
   "cell_type": "markdown",
   "id": "0",
   "metadata": {},
   "source": [
    "# Hack4Rail - Challenge 9\n",
    "\n",
    "Sample notebook to access battery data on Snowflake"
   ]
  },
  {
   "cell_type": "code",
   "execution_count": null,
   "id": "1",
   "metadata": {},
   "outputs": [],
   "source": [
    "from dotenv import load_dotenv\n",
    "import plotly.express as px\n",
    "from charged.snowflake_utils import create_session\n",
    "import snowflake.snowpark.functions as F\n",
    "import pandas as pd\n",
    " \n",
    "# load environment variables from .env file\n",
    "load_dotenv()\n",
    "\n",
    "# create snowpark session\n",
    "session = create_session()"
   ]
  },
  {
   "cell_type": "code",
   "execution_count": null,
   "id": "2",
   "metadata": {},
   "outputs": [],
   "source": [
    "import pandas as pd\n",
    "\n",
    "\n",
    "def load_data(start_date=None, end_date=None):\n",
    "    if start_date and end_date:\n",
    "        filters = [\n",
    "            (\"TIMESTAMP_VEHICLE\", \">=\", pd.Timestamp(start_date).tz_localize(\"America/Los_Angeles\")),\n",
    "            (\"TIMESTAMP_VEHICLE\", \"<=\", pd.Timestamp(end_date).tz_localize(\"America/Los_Angeles\")),\n",
    "        ]\n",
    "    else:\n",
    "        filters = None\n",
    "    df = pd.read_parquet(\"../data/clean_data.parquet\", filters=filters, engine=\"pyarrow\")\n",
    "    return df\n",
    "\n",
    "df = load_data('2025-06-01', '2025-06-08')\n",
    "df.head()"
   ]
  },
  {
   "cell_type": "markdown",
   "id": "3",
   "metadata": {},
   "source": [
    "## Time Series"
   ]
  },
  {
   "cell_type": "code",
   "execution_count": null,
   "id": "4",
   "metadata": {},
   "outputs": [],
   "source": [
    "# query tables BATTERIELOK_DATA, VEHICLES, VEHICLE_TYPE\n",
    "# table = \"BATTERIELOK_DATA\"\n",
    "# sdf = (\n",
    "#     session\n",
    "#     .table(table)\n",
    "#     .filter(F.col(\"VEHICLE_ID\").isNotNull())\n",
    "#     .with_column(\n",
    "#         \"TIMESTAMP_TRUNC\",\n",
    "#         F.from_unixtime(\n",
    "#             F.round(F.unix_timestamp(F.col(\"TIMESTAMP_VEHICLE\")) / 60) * 60\n",
    "#         ).cast(\"TIMESTAMP\"),\n",
    "#     )\n",
    "#     .with_column(\n",
    "#         \"DATE\",\n",
    "#         F.date_trunc(\"DAY\", \"TIMESTAMP_VEHICLE\").cast(\"DATE\"),\n",
    "#     )\n",
    "# )\n",
    "# sdf.show()"
   ]
  },
  {
   "cell_type": "code",
   "execution_count": null,
   "id": "5",
   "metadata": {},
   "outputs": [],
   "source": [
    "# sdf.columns\n",
    "\n",
    "columns = [\n",
    "    \"VEHICLE_OUTSIDE_TEMP\",\n",
    "    \"BATTERY_SOC\",\n",
    "    \"BATTERY_SOH\",\n",
    "    \"BATTERY_COOLING_TEMP\",\n",
    "    \"BATTERY_1_TEMP\",\n",
    "    \"BATTERY_1_VOLTAGE\",\n",
    "    \"BATTERY_1_CURRENT\",\n",
    "    \"BATTERY_2_TEMP\",\n",
    "    \"BATTERY_2_VOLTAGE\",\n",
    "    \"BATTERY_2_CURRENT\",\n",
    "    \"BATTERY_3_TEMP\",\n",
    "    \"BATTERY_3_VOLTAGE\",\n",
    "    \"BATTERY_3_CURRENT\",\n",
    "    \"BATTERY_4_TEMP\",\n",
    "    \"BATTERY_4_VOLTAGE\",\n",
    "    \"BATTERY_4_CURRENT\",\n",
    "    \"BATTERY_5_VOLTAGE\"\n",
    "]"
   ]
  },
  {
   "cell_type": "code",
   "execution_count": null,
   "id": "6",
   "metadata": {},
   "outputs": [],
   "source": [
    "# # groupby vehicle and 60 sec\n",
    "# aggregations = []\n",
    "# for column in columns:\n",
    "#     aggregations.append(F.avg(F.col(column)).alias(f\"{column}_AVG\"))\n",
    "\n",
    "# df = (\n",
    "#     sdf\n",
    "#     .filter(F.to_date(F.col(\"TIMESTAMP_VEHICLE\")) >= from_date)\n",
    "#     .filter(F.to_date(F.col(\"TIMESTAMP_VEHICLE\")) <= to_date)\n",
    "#     .group_by([\"VEHICLE_ID\", \"TIMESTAMP_TRUNC\"])\n",
    "#     .agg(*aggregations)\n",
    "#     .order_by([\"VEHICLE_ID\", \"TIMESTAMP_TRUNC\"], ascending=[True, True])\n",
    "#     .to_pandas()\n",
    "# )\n",
    "# df.head()\n"
   ]
  },
  {
   "cell_type": "code",
   "execution_count": null,
   "id": "7",
   "metadata": {},
   "outputs": [],
   "source": [
    "# code with\n",
    "# Group by 'VEHICLE_ID' and 'TIMESTAMP_TRUNC', and calculate the average for each column\n",
    "aggregations = {f\"{column}\": 'mean' for column in columns}\n",
    "\n",
    "df_grouped = (\n",
    "    df\n",
    "    .groupby([\"VEHICLE_ID\", \"TIMESTAMP_TRUNC\"])\n",
    "    .agg(aggregations)\n",
    ")\n",
    "\n",
    "# Order the DataFrame by 'VEHICLE_ID' and 'TIMESTAMP_TRUNC'\n",
    "df_ordered = df_grouped.sort_values(by=[\"VEHICLE_ID\", \"TIMESTAMP_TRUNC\"], ascending=[True, True])\n",
    "\n",
    "# Display the first few rows of the resulting DataFrame\n",
    "df_graph = df_ordered.reset_index().head()"
   ]
  },
  {
   "cell_type": "code",
   "execution_count": null,
   "id": "8",
   "metadata": {},
   "outputs": [],
   "source": [
    "# show \n",
    "fig = px.line(\n",
    "    df_graph,\n",
    "    x=\"TIMESTAMP_TRUNC\",\n",
    "    y=\"BATTERY_SOC\",\n",
    "    markers=True,\n",
    "    # color=\"VEHICLE_ID\",\n",
    "    facet_row=\"VEHICLE_ID\",\n",
    "    render_mode=\"svg\",\n",
    ")\n",
    "\n",
    "fig.show()"
   ]
  },
  {
   "cell_type": "markdown",
   "id": "9",
   "metadata": {},
   "source": [
    "## Overview\n",
    "\n",
    "Overview of battery health per vehicle and battery"
   ]
  },
  {
   "cell_type": "code",
   "execution_count": null,
   "id": "10",
   "metadata": {},
   "outputs": [],
   "source": [
    "sdf.show()"
   ]
  },
  {
   "cell_type": "code",
   "execution_count": null,
   "id": "11",
   "metadata": {},
   "outputs": [],
   "source": [
    "# aggregate per day\n",
    "columns = [\n",
    "    \"BATTERY_SOH\"\n",
    "]\n",
    "\n",
    "# groupby vehicle and 60 sec\n",
    "aggregations = []\n",
    "for column in columns:\n",
    "    aggregations.append(F.avg(F.col(column)).alias(f\"{column}_AVG\"))\n",
    "\n",
    "df = (\n",
    "    sdf\n",
    "    .filter(F.to_date(F.col(\"TIMESTAMP_VEHICLE\")) >= from_date)\n",
    "    .filter(F.to_date(F.col(\"TIMESTAMP_VEHICLE\")) <= to_date)\n",
    "    .group_by([\"VEHICLE_ID\", \"DATE\", \"TIMESTAMP_TRUNC\"])\n",
    "    .agg(*aggregations)\n",
    "    .order_by([\"VEHICLE_ID\", \"TIMESTAMP_TRUNC\"], ascending=[True, True])\n",
    "    .to_pandas()\n",
    ")\n",
    "df.head()"
   ]
  },
  {
   "cell_type": "code",
   "execution_count": null,
   "id": "12",
   "metadata": {},
   "outputs": [],
   "source": [
    "fig = px.box(\n",
    "    df,\n",
    "    x=\"DATE\",\n",
    "    y=\"BATTERY_SOH_AVG\",\n",
    "    # color=\"VEHICLE_ID\",\n",
    "    facet_row=\"VEHICLE_ID\",\n",
    "    # render_mode=\"svg\",\n",
    ")\n",
    "fig.update_yaxes(matches=None, showticklabels=True)\n",
    "\n",
    "fig.show()"
   ]
  },
  {
   "cell_type": "code",
   "execution_count": null,
   "id": "13",
   "metadata": {},
   "outputs": [],
   "source": []
  },
  {
   "cell_type": "markdown",
   "id": "14",
   "metadata": {},
   "source": [
    "## Errors"
   ]
  },
  {
   "cell_type": "code",
   "execution_count": null,
   "id": "15",
   "metadata": {},
   "outputs": [],
   "source": [
    "# ('ERRORS', ArrayType(StringType()), nullable=True)\n",
    "sdf.schema"
   ]
  },
  {
   "cell_type": "code",
   "execution_count": null,
   "id": "16",
   "metadata": {},
   "outputs": [],
   "source": [
    "df = (\n",
    "    sdf\n",
    "    .filter(F.to_date(F.col(\"TIMESTAMP_VEHICLE\")) >= '2025-01-01')\n",
    "    .filter(F.to_date(F.col(\"TIMESTAMP_VEHICLE\")) <= to_date)\n",
    "    .filter(F.size(F.col(\"ERRORS\")) > 0)\n",
    "    .group_by([\"VEHICLE_ID\", \"DATE\"])\n",
    "    .count()\n",
    "    .order_by([\"VEHICLE_ID\", \"DATE\"], ascending=[True, True])\n",
    "    .to_pandas()\n",
    ")\n",
    "df.head()"
   ]
  },
  {
   "cell_type": "code",
   "execution_count": null,
   "id": "17",
   "metadata": {},
   "outputs": [],
   "source": [
    "fig = px.bar(\n",
    "    df,\n",
    "    x=\"DATE\",\n",
    "    y=\"COUNT\",\n",
    "    facet_row=\"VEHICLE_ID\",\n",
    ")\n",
    "fig.update_yaxes(matches=None, showticklabels=True)\n",
    "\n",
    "fig.show()"
   ]
  },
  {
   "cell_type": "markdown",
   "id": "18",
   "metadata": {},
   "source": [
    "## KPIs"
   ]
  },
  {
   "cell_type": "code",
   "execution_count": null,
   "id": "19",
   "metadata": {},
   "outputs": [],
   "source": [
    "df = (\n",
    "    sdf\n",
    "    .filter(F.to_date(F.col(\"TIMESTAMP_VEHICLE\")) >= '2025-06-20')\n",
    "    .filter(F.to_date(F.col(\"TIMESTAMP_VEHICLE\")) <= '2025-06-24')\n",
    "    .with_column(\n",
    "        \"TIMESTAMP_TRUNC\",\n",
    "        F.from_unixtime(\n",
    "            F.round(F.unix_timestamp(F.col(\"TIMESTAMP_VEHICLE\")) / 60) * 60\n",
    "        ).cast(\"TIMESTAMP\"),\n",
    "    )\n",
    "    .with_column(\n",
    "        \"DATE\",\n",
    "        F.date_trunc(\"DAY\", \"TIMESTAMP_VEHICLE\").cast(\"DATE\"),\n",
    "    )\n",
    "    .with_column(\"ERROR_SIZE\", F.size(F.col(\"ERRORS\")))\n",
    "    .to_pandas()\n",
    ")\n",
    "df.shape"
   ]
  },
  {
   "cell_type": "code",
   "execution_count": null,
   "id": "20",
   "metadata": {},
   "outputs": [],
   "source": [
    "(\n",
    "    sdf\n",
    "    .group_by([\"VEHICLE_ID\"])\n",
    "    .agg(\n",
    "        F.avg(F.col(\"BATTERY_SOH\")).alias(\"BATTERY_SOH_AVG\"),\n",
    "        F.sum(F.col(\"ERROR_SIZE\")).alias(\"ERROR_COUNT\"),\n",
    "    )\n",
    "    .with_column(\n",
    "        \"ERROR_STATE\",\n",
    "        F.when(\n",
    "            F.col(\"ERROR_COUNT\") > 0, F.lit(1)\n",
    "        ).otherwise(F.lit(0))\n",
    "    )\n",
    "    .with_column(\n",
    "        \"SOH_STATE\",\n",
    "        F.when(\n",
    "            F.col(\"BATTERY_SOH_AVG\") > 95, F.lit(0)\n",
    "        ).otherwise(\n",
    "            F.when(\n",
    "                (F.col(\"BATTERY_SOH_AVG\") > 50)\n",
    "                , F.lit(0.5)\n",
    "            ).otherwise(F.lit(0))\n",
    "        )\n",
    "    )\n",
    "    .with_column(\"KPI\", F.col(\"ERROR_STATE\") + F.col(\"SOH_STATE\"))\n",
    "    .order_by([\"VEHICLE_ID\"], ascending=[True])\n",
    "    .show(50)\n",
    ")"
   ]
  },
  {
   "cell_type": "code",
   "execution_count": null,
   "id": "21",
   "metadata": {},
   "outputs": [],
   "source": [
    "# Assuming `df` is your Pandas DataFrame equivalent to `sdf`\n",
    "df_result = (\n",
    "    df\n",
    "    .groupby('VEHICLE_ID')\n",
    "    .agg(\n",
    "        BATTERY_SOH_AVG=('BATTERY_SOH', 'mean'),\n",
    "        ERROR_COUNT=('ERROR_SIZE', 'sum')\n",
    "    )\n",
    "    .assign(\n",
    "        ERROR_STATE=lambda x: x['ERROR_COUNT'].apply(lambda count: 1 if count > 0 else 0),\n",
    "        SOH_STATE=lambda x: x['BATTERY_SOH_AVG'].apply(\n",
    "            lambda soh: 0 if soh > 95 else (0.5 if soh > 50 else 0)\n",
    "        )\n",
    "    )\n",
    ")\n",
    "\n",
    "df_result['KPI'] = df_result['ERROR_STATE'] + df_result['SOH_STATE']\n",
    "\n",
    "df_result = df_result.sort_values('VEHICLE_ID')\n",
    "\n",
    "# Display the first 50 rows\n",
    "df_result.reset_index().head()"
   ]
  },
  {
   "cell_type": "code",
   "execution_count": null,
   "id": "22",
   "metadata": {},
   "outputs": [],
   "source": []
  }
 ],
 "metadata": {
  "kernelspec": {
   "display_name": "charged",
   "language": "python",
   "name": "python3"
  },
  "language_info": {
   "codemirror_mode": {
    "name": "ipython",
    "version": 3
   },
   "file_extension": ".py",
   "mimetype": "text/x-python",
   "name": "python",
   "nbconvert_exporter": "python",
   "pygments_lexer": "ipython3",
   "version": "3.12.10"
  }
 },
 "nbformat": 4,
 "nbformat_minor": 5
}
