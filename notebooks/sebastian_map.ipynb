{
 "cells": [
  {
   "cell_type": "code",
   "execution_count": null,
   "id": "59952d38",
   "metadata": {},
   "outputs": [],
   "source": [
    "import pandas as pd\n",
    "import plotly.express as px"
   ]
  },
  {
   "cell_type": "code",
   "execution_count": null,
   "id": "d683164c",
   "metadata": {},
   "outputs": [],
   "source": [
    "df = pd.read_parquet(\"../data/batterielok_data_cleaned.parquet\")"
   ]
  },
  {
   "cell_type": "code",
   "execution_count": null,
   "id": "b9bcdc9b",
   "metadata": {},
   "outputs": [],
   "source": [
    "df.columns"
   ]
  },
  {
   "cell_type": "code",
   "execution_count": null,
   "id": "a8f7ddc5",
   "metadata": {},
   "outputs": [],
   "source": [
    "# minimal preprocessing\n",
    "df['min_5'] = df['TIMESTAMP_VEHICLE'].dt.floor('5min')"
   ]
  },
  {
   "cell_type": "code",
   "execution_count": null,
   "id": "a5efe975",
   "metadata": {},
   "outputs": [],
   "source": [
    "fig = px.scatter_map(\n",
    "    df.drop_duplicates(subset=['min_5', 'VEHICLE_ID']),\n",
    "    lon=\"VEHICLE_GPS_X\",\n",
    "    lat=\"VEHICLE_GPS_Y\",\n",
    "    color=\"VEHICLE_ID\",\n",
    "    # size=\"kr_durchm\",\n",
    "    width=1200,\n",
    "    height=600,\n",
    "    # color_continuous_scale=[\"yellow\", \"red\", \"purple\", \"blue\"],\n",
    "    # zoom=6,\n",
    "    # hover_data=[\"baumhoehe\", \"gattung\"],\n",
    "    map_style=\"open-street-map\",\n",
    ")"
   ]
  },
  {
   "cell_type": "code",
   "execution_count": null,
   "id": "7bc86ef4",
   "metadata": {},
   "outputs": [],
   "source": [
    "fig.show()"
   ]
  },
  {
   "cell_type": "markdown",
   "id": "773d8ecf",
   "metadata": {},
   "source": []
  }
 ],
 "metadata": {
  "kernelspec": {
   "display_name": ".venv",
   "language": "python",
   "name": "python3"
  },
  "language_info": {
   "codemirror_mode": {
    "name": "ipython",
    "version": 3
   },
   "file_extension": ".py",
   "mimetype": "text/x-python",
   "name": "python",
   "nbconvert_exporter": "python",
   "pygments_lexer": "ipython3",
   "version": "3.12.9"
  }
 },
 "nbformat": 4,
 "nbformat_minor": 5
}
